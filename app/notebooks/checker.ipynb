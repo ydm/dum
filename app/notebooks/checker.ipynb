{
 "cells": [
  {
   "cell_type": "code",
   "execution_count": 12,
   "id": "a6818ac6-0841-41a6-8f93-f6224306ccfc",
   "metadata": {},
   "outputs": [],
   "source": [
    "import io\n",
    "from typing import List\n",
    "\n",
    "import pandas as pd\n",
    "import checker"
   ]
  },
  {
   "cell_type": "code",
   "execution_count": 98,
   "id": "b0099c87-522b-4f61-8a12-1fe56f93971e",
   "metadata": {},
   "outputs": [],
   "source": [
    "def is_valid_egn(egn):\n",
    "    weights = [2, 4, 8, 5, 10, 9, 7, 3, 6]\n",
    "    check_digit = int(egn[-1])\n",
    "    calculated_check_digit = sum(\n",
    "        [int(egn[i]) * weights[i] for i in range(9)]\n",
    "    ) % 11 % 10\n",
    "    return check_digit == calculated_check_digit\n",
    "\n",
    "\n",
    "def perform_checks(xs: pd.DataFrame) -> List[str]:\n",
    "    # Check column names.\n",
    "    if xs.columns.str.lower().to_list() != ['номер на страница', 'име', 'егн', 'адрес', 'дата']:\n",
    "        return ['INVALID_COLUMN_NAMES']\n",
    "    errors = []\n",
    "    # Check if all address pages are integers.\n",
    "    try:\n",
    "        xs['Номер на страница'].astype(int)\n",
    "    except ValueError:\n",
    "        errors.append('INVALID_PAGE_NUMBER')\n",
    "    # Check if all EGNs are valid.\n",
    "    if not xs['ЕГН'].map(lambda x: is_valid_egn(list(map(int, str(x))))).all():\n",
    "        errors.append('INVALID_EGN')\n",
    "    # Check if all addresses contain at least a single digit.\n",
    "    if not xs['Адрес'].map(lambda x: any(map(str.isdigit, x))).all():\n",
    "        errors.append('INVALID_ADDRESS')\n",
    "    return errors"
   ]
  },
  {
   "cell_type": "code",
   "execution_count": 65,
   "id": "906ef4e3-c67e-4f5c-9ade-becf7fb38d3c",
   "metadata": {},
   "outputs": [
    {
     "data": {
      "text/plain": [
       "[]"
      ]
     },
     "execution_count": 65,
     "metadata": {},
     "output_type": "execute_result"
    }
   ],
   "source": [
    "def f(name):\n",
    "    with open(name, 'rb') as f:\n",
    "        return checker.read_table(name, f)\n",
    "xs = f('/tmp/one.csv')\n",
    "perform_checks(xs)"
   ]
  },
  {
   "cell_type": "code",
   "execution_count": 37,
   "id": "672811e6-9e6f-4000-92f5-f34860df4bea",
   "metadata": {},
   "outputs": [
    {
     "name": "stdout",
     "output_type": "stream",
     "text": [
      "yep\n"
     ]
    }
   ],
   "source": [
    "try:\n",
    "    xs['Адрес'].astype(int)\n",
    "except ValueError:\n",
    "    print('yep')\n",
    "# xs['Номер на страница'].astype(int)"
   ]
  },
  {
   "cell_type": "code",
   "execution_count": 71,
   "id": "0986e9ce-e1c8-4d9a-8589-ca27a9a6009e",
   "metadata": {},
   "outputs": [],
   "source": [
    "ys = pd.concat([xs, xs, xs, xs, xs])"
   ]
  },
  {
   "cell_type": "code",
   "execution_count": 84,
   "id": "4efde16c-a228-453f-94b3-b02875e9a1b1",
   "metadata": {},
   "outputs": [
    {
     "ename": "AttributeError",
     "evalue": "module 'string' has no attribute 'isdigit'",
     "output_type": "error",
     "traceback": [
      "\u001b[0;31m---------------------------------------------------------------------------\u001b[0m",
      "\u001b[0;31mAttributeError\u001b[0m                            Traceback (most recent call last)",
      "Cell \u001b[0;32mIn[84], line 2\u001b[0m\n\u001b[1;32m      1\u001b[0m \u001b[38;5;28;01mimport\u001b[39;00m \u001b[38;5;21;01mstring\u001b[39;00m\n\u001b[0;32m----> 2\u001b[0m \u001b[43mstring\u001b[49m\u001b[38;5;241;43m.\u001b[39;49m\u001b[43misdigit\u001b[49m\n",
      "\u001b[0;31mAttributeError\u001b[0m: module 'string' has no attribute 'isdigit'"
     ]
    }
   ],
   "source": [
    "import string\n",
    "string.isdigit"
   ]
  },
  {
   "cell_type": "code",
   "execution_count": 94,
   "id": "4d3a3b77-32be-40dd-9be8-f22e6c2832e9",
   "metadata": {},
   "outputs": [],
   "source": [
    "ys = ys.copy()\n",
    "ys.iloc[2, 3] = 'kur'"
   ]
  },
  {
   "cell_type": "code",
   "execution_count": 95,
   "id": "f5d0d334-c8d7-462c-864a-1c6ead7336f7",
   "metadata": {},
   "outputs": [
    {
     "data": {
      "text/html": [
       "<div>\n",
       "<style scoped>\n",
       "    .dataframe tbody tr th:only-of-type {\n",
       "        vertical-align: middle;\n",
       "    }\n",
       "\n",
       "    .dataframe tbody tr th {\n",
       "        vertical-align: top;\n",
       "    }\n",
       "\n",
       "    .dataframe thead th {\n",
       "        text-align: right;\n",
       "    }\n",
       "</style>\n",
       "<table border=\"1\" class=\"dataframe\">\n",
       "  <thead>\n",
       "    <tr style=\"text-align: right;\">\n",
       "      <th></th>\n",
       "      <th>Номер на страница</th>\n",
       "      <th>Име</th>\n",
       "      <th>ЕГН</th>\n",
       "      <th>Адрес</th>\n",
       "      <th>Дата</th>\n",
       "    </tr>\n",
       "  </thead>\n",
       "  <tbody>\n",
       "    <tr>\n",
       "      <th>0</th>\n",
       "      <td>1</td>\n",
       "      <td>Панчо Владигеров</td>\n",
       "      <td>9602122829</td>\n",
       "      <td>гр. София, ул. Майска роза №69</td>\n",
       "      <td>2023-02-12</td>\n",
       "    </tr>\n",
       "    <tr>\n",
       "      <th>0</th>\n",
       "      <td>1</td>\n",
       "      <td>Панчо Владигеров</td>\n",
       "      <td>9602122829</td>\n",
       "      <td>гр. София, ул. Майска роза №69</td>\n",
       "      <td>2023-02-12</td>\n",
       "    </tr>\n",
       "    <tr>\n",
       "      <th>0</th>\n",
       "      <td>1</td>\n",
       "      <td>Панчо Владигеров</td>\n",
       "      <td>9602122829</td>\n",
       "      <td>kur</td>\n",
       "      <td>2023-02-12</td>\n",
       "    </tr>\n",
       "    <tr>\n",
       "      <th>0</th>\n",
       "      <td>1</td>\n",
       "      <td>Панчо Владигеров</td>\n",
       "      <td>9602122829</td>\n",
       "      <td>гр. София, ул. Майска роза №69</td>\n",
       "      <td>2023-02-12</td>\n",
       "    </tr>\n",
       "    <tr>\n",
       "      <th>0</th>\n",
       "      <td>1</td>\n",
       "      <td>Панчо Владигеров</td>\n",
       "      <td>9602122829</td>\n",
       "      <td>гр. София, ул. Майска роза №69</td>\n",
       "      <td>2023-02-12</td>\n",
       "    </tr>\n",
       "  </tbody>\n",
       "</table>\n",
       "</div>"
      ],
      "text/plain": [
       "   Номер на страница               Име         ЕГН  \\\n",
       "0                  1  Панчо Владигеров  9602122829   \n",
       "0                  1  Панчо Владигеров  9602122829   \n",
       "0                  1  Панчо Владигеров  9602122829   \n",
       "0                  1  Панчо Владигеров  9602122829   \n",
       "0                  1  Панчо Владигеров  9602122829   \n",
       "\n",
       "                            Адрес        Дата  \n",
       "0  гр. София, ул. Майска роза №69  2023-02-12  \n",
       "0  гр. София, ул. Майска роза №69  2023-02-12  \n",
       "0                             kur  2023-02-12  \n",
       "0  гр. София, ул. Майска роза №69  2023-02-12  \n",
       "0  гр. София, ул. Майска роза №69  2023-02-12  "
      ]
     },
     "execution_count": 95,
     "metadata": {},
     "output_type": "execute_result"
    }
   ],
   "source": [
    "ys"
   ]
  },
  {
   "cell_type": "code",
   "execution_count": 97,
   "id": "c3bd6b26-1318-4477-b3e8-c327bc9a5ac1",
   "metadata": {},
   "outputs": [
    {
     "data": {
      "text/plain": [
       "False"
      ]
     },
     "execution_count": 97,
     "metadata": {},
     "output_type": "execute_result"
    }
   ],
   "source": [
    "ys['Адрес'].map(lambda x: any(map(str.isdigit, x))).all()"
   ]
  },
  {
   "cell_type": "code",
   "execution_count": 79,
   "id": "fc5f9a96-5b36-4bc2-aedb-60d375f2968f",
   "metadata": {},
   "outputs": [
    {
     "data": {
      "text/plain": [
       "True"
      ]
     },
     "execution_count": 79,
     "metadata": {},
     "output_type": "execute_result"
    }
   ],
   "source": [
    "ys['ЕГН'].map(lambda x: is_valid_egn(list(map(int, str(x))))).all()"
   ]
  },
  {
   "cell_type": "code",
   "execution_count": 127,
   "id": "13b53602-e623-44f3-94e9-e66f6803ce61",
   "metadata": {},
   "outputs": [],
   "source": [
    "xs = pd.read_csv('/tmp/xxx.csv', sep=';', names=['a', 'b', 'c', 'd', 'x', 'e', 'f', 'g', 'h'])['x'].unique()"
   ]
  },
  {
   "cell_type": "code",
   "execution_count": 144,
   "id": "068947fd-6a54-4d3e-a15f-e4de8628371a",
   "metadata": {},
   "outputs": [],
   "source": [
    "xs = pd.Series(xs).str.lower()"
   ]
  },
  {
   "cell_type": "code",
   "execution_count": 150,
   "id": "7b987b15-6ffe-42ff-ba3c-6352359f0b90",
   "metadata": {},
   "outputs": [],
   "source": [
    "xs = xs.map(lambda s: s.replace('гр.', '').replace('с.', ''))"
   ]
  },
  {
   "cell_type": "code",
   "execution_count": 157,
   "id": "bf5d106c-33b1-4f89-9fc2-cf8ecefef3fd",
   "metadata": {},
   "outputs": [],
   "source": [
    "xs = pd.Series(xs.unique())"
   ]
  },
  {
   "cell_type": "code",
   "execution_count": 161,
   "id": "a08fc82b-4f37-4f81-850f-dd224cbd5f37",
   "metadata": {},
   "outputs": [],
   "source": [
    "xs = xs.sort_values()"
   ]
  },
  {
   "cell_type": "code",
   "execution_count": 171,
   "id": "b627cc1f-20ce-4fd3-94fc-281f54b1440c",
   "metadata": {},
   "outputs": [],
   "source": [
    "xs = xs[xs.map(lambda s: not any(n in s for n in ['кв.', 'к.к.', 'ж. к.']))]"
   ]
  },
  {
   "cell_type": "code",
   "execution_count": 175,
   "id": "c1ce4afc-568f-4494-ba15-8bf2ac2602d3",
   "metadata": {},
   "outputs": [],
   "source": [
    "xs = xs.unique()\n",
    "xs = pd.Series(xs)\n",
    "xs = xs.sort_values()"
   ]
  },
  {
   "cell_type": "code",
   "execution_count": 178,
   "id": "9b5410f3-be96-4637-840d-9d967e2765a5",
   "metadata": {},
   "outputs": [],
   "source": []
  },
  {
   "cell_type": "code",
   "execution_count": 181,
   "id": "268f66e5-9498-486e-9c01-a4cdbb34959c",
   "metadata": {},
   "outputs": [],
   "source": []
  },
  {
   "cell_type": "code",
   "execution_count": 186,
   "id": "7b45dad6-c81f-476a-9967-a496da80c4c1",
   "metadata": {},
   "outputs": [],
   "source": [
    "xs = xs[~xs.map(lambda s: '.' in s)]"
   ]
  },
  {
   "cell_type": "code",
   "execution_count": 194,
   "id": "352d6adc-f344-4081-9e6f-16c0ae2e0489",
   "metadata": {},
   "outputs": [],
   "source": [
    "xs = xs.unique()\n",
    "xs = pd.Series(xs)\n",
    "xs = xs.sort_values()"
   ]
  },
  {
   "cell_type": "code",
   "execution_count": 200,
   "id": "a721bbcc-dce5-403e-98d9-445c2c46dd39",
   "metadata": {},
   "outputs": [],
   "source": [
    "xs.name = 'Settlements'"
   ]
  },
  {
   "cell_type": "code",
   "execution_count": 201,
   "id": "6a0e94e4-fd5b-4d61-bdb1-e2b581288e75",
   "metadata": {},
   "outputs": [],
   "source": [
    "xs.to_csv('/tmp/settlements.csv', columns=['Settlements'], index=False)"
   ]
  },
  {
   "cell_type": "code",
   "execution_count": 202,
   "id": "0a4d0426-602a-46ca-a55e-b16173559271",
   "metadata": {},
   "outputs": [
    {
     "data": {
      "text/html": [
       "<div>\n",
       "<style scoped>\n",
       "    .dataframe tbody tr th:only-of-type {\n",
       "        vertical-align: middle;\n",
       "    }\n",
       "\n",
       "    .dataframe tbody tr th {\n",
       "        vertical-align: top;\n",
       "    }\n",
       "\n",
       "    .dataframe thead th {\n",
       "        text-align: right;\n",
       "    }\n",
       "</style>\n",
       "<table border=\"1\" class=\"dataframe\">\n",
       "  <thead>\n",
       "    <tr style=\"text-align: right;\">\n",
       "      <th></th>\n",
       "      <th>settlements</th>\n",
       "    </tr>\n",
       "  </thead>\n",
       "  <tbody>\n",
       "    <tr>\n",
       "      <th>0</th>\n",
       "      <td>абланица</td>\n",
       "    </tr>\n",
       "    <tr>\n",
       "      <th>1</th>\n",
       "      <td>абрит</td>\n",
       "    </tr>\n",
       "    <tr>\n",
       "      <th>2</th>\n",
       "      <td>аврамово</td>\n",
       "    </tr>\n",
       "    <tr>\n",
       "      <th>3</th>\n",
       "      <td>аврен</td>\n",
       "    </tr>\n",
       "    <tr>\n",
       "      <th>4</th>\n",
       "      <td>агатово</td>\n",
       "    </tr>\n",
       "    <tr>\n",
       "      <th>...</th>\n",
       "      <td>...</td>\n",
       "    </tr>\n",
       "    <tr>\n",
       "      <th>3577</th>\n",
       "      <td>ясно поле</td>\n",
       "    </tr>\n",
       "    <tr>\n",
       "      <th>3578</th>\n",
       "      <td>ястреб</td>\n",
       "    </tr>\n",
       "    <tr>\n",
       "      <th>3579</th>\n",
       "      <td>ястребино</td>\n",
       "    </tr>\n",
       "    <tr>\n",
       "      <th>3580</th>\n",
       "      <td>ястребово</td>\n",
       "    </tr>\n",
       "    <tr>\n",
       "      <th>3581</th>\n",
       "      <td>яхиново</td>\n",
       "    </tr>\n",
       "  </tbody>\n",
       "</table>\n",
       "<p>3582 rows × 1 columns</p>\n",
       "</div>"
      ],
      "text/plain": [
       "     settlements\n",
       "0       абланица\n",
       "1          абрит\n",
       "2       аврамово\n",
       "3          аврен\n",
       "4        агатово\n",
       "...          ...\n",
       "3577   ясно поле\n",
       "3578      ястреб\n",
       "3579   ястребино\n",
       "3580   ястребово\n",
       "3581     яхиново\n",
       "\n",
       "[3582 rows x 1 columns]"
      ]
     },
     "execution_count": 202,
     "metadata": {},
     "output_type": "execute_result"
    }
   ],
   "source": [
    "pd.read_csv('/tmp/settlements.csv')"
   ]
  }
 ],
 "metadata": {
  "kernelspec": {
   "display_name": "Python 3 (ipykernel)",
   "language": "python",
   "name": "python3"
  },
  "language_info": {
   "codemirror_mode": {
    "name": "ipython",
    "version": 3
   },
   "file_extension": ".py",
   "mimetype": "text/x-python",
   "name": "python",
   "nbconvert_exporter": "python",
   "pygments_lexer": "ipython3",
   "version": "3.10.8"
  }
 },
 "nbformat": 4,
 "nbformat_minor": 5
}
